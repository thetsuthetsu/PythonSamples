{
  "nbformat": 4,
  "nbformat_minor": 0,
  "metadata": {
    "colab": {
      "provenance": [],
      "authorship_tag": "ABX9TyOdLZM9MLR3n7Um84FsfwPS",
      "include_colab_link": true
    },
    "kernelspec": {
      "name": "python3",
      "display_name": "Python 3"
    },
    "language_info": {
      "name": "python"
    }
  },
  "cells": [
    {
      "cell_type": "markdown",
      "metadata": {
        "id": "view-in-github",
        "colab_type": "text"
      },
      "source": [
        "<a href=\"https://colab.research.google.com/github/thetsuthetsu/PythonSamples/blob/main/pytorch%E9%A0%86%E4%BC%9D%E6%90%AC.ipynb\" target=\"_parent\"><img src=\"https://colab.research.google.com/assets/colab-badge.svg\" alt=\"Open In Colab\"/></a>"
      ]
    },
    {
      "cell_type": "code",
      "execution_count": 1,
      "metadata": {
        "id": "mR5A19mgGceI"
      },
      "outputs": [],
      "source": [
        "import torch"
      ]
    },
    {
      "cell_type": "code",
      "source": [
        "import torch.nn as nn"
      ],
      "metadata": {
        "id": "QoSu9re_Hszn"
      },
      "execution_count": 2,
      "outputs": []
    },
    {
      "cell_type": "code",
      "source": [
        "# 乱数のシードを固定\n",
        "torch.manual_seed(0)"
      ],
      "metadata": {
        "colab": {
          "base_uri": "https://localhost:8080/"
        },
        "id": "9up-zZdLJZo_",
        "outputId": "23d07765-2d5d-44ff-85bd-56e7a29c714e"
      },
      "execution_count": 8,
      "outputs": [
        {
          "output_type": "execute_result",
          "data": {
            "text/plain": [
              "<torch._C.Generator at 0x7fc383647d90>"
            ]
          },
          "metadata": {},
          "execution_count": 8
        }
      ]
    },
    {
      "cell_type": "code",
      "source": [
        "# torchバージョン確認\n",
        "torch.__version__"
      ],
      "metadata": {
        "colab": {
          "base_uri": "https://localhost:8080/",
          "height": 36
        },
        "id": "JajHikWnKMGb",
        "outputId": "cf4c0677-0427-47fd-b9b1-eb5fe986da7c"
      },
      "execution_count": 12,
      "outputs": [
        {
          "output_type": "execute_result",
          "data": {
            "text/plain": [
              "'2.1.0+cu118'"
            ],
            "application/vnd.google.colaboratory.intrinsic+json": {
              "type": "string"
            }
          },
          "metadata": {},
          "execution_count": 12
        }
      ]
    },
    {
      "cell_type": "code",
      "source": [
        "# 3ノード -> 2ノードの全結合層 (fully-connected layer)\n",
        "fc = nn.Linear(3,2)"
      ],
      "metadata": {
        "id": "aDi92NwKJ00w"
      },
      "execution_count": 9,
      "outputs": []
    },
    {
      "cell_type": "code",
      "source": [
        "fc.weight"
      ],
      "metadata": {
        "colab": {
          "base_uri": "https://localhost:8080/"
        },
        "id": "k7ShYh7MJ6ZD",
        "outputId": "577df976-ab0a-45e7-d700-dcd25b3ef5cd"
      },
      "execution_count": 10,
      "outputs": [
        {
          "output_type": "execute_result",
          "data": {
            "text/plain": [
              "Parameter containing:\n",
              "tensor([[-0.0043,  0.3097, -0.4752],\n",
              "        [-0.4249, -0.2224,  0.1548]], requires_grad=True)"
            ]
          },
          "metadata": {},
          "execution_count": 10
        }
      ]
    },
    {
      "cell_type": "code",
      "source": [
        "fc.bias"
      ],
      "metadata": {
        "colab": {
          "base_uri": "https://localhost:8080/"
        },
        "id": "6iFn9LenJ8iD",
        "outputId": "19989330-e3cd-4d82-ccb3-2bc876a1fe35"
      },
      "execution_count": 11,
      "outputs": [
        {
          "output_type": "execute_result",
          "data": {
            "text/plain": [
              "Parameter containing:\n",
              "tensor([-0.0114,  0.4578], requires_grad=True)"
            ]
          },
          "metadata": {},
          "execution_count": 11
        }
      ]
    },
    {
      "cell_type": "markdown",
      "source": [
        "線形変換\n",
        "- データ型をテンソル型に変える"
      ],
      "metadata": {
        "id": "ERPyEoSwJ_MM"
      }
    },
    {
      "cell_type": "code",
      "source": [
        "x = torch.tensor([[1.,2.,3.]])"
      ],
      "metadata": {
        "id": "p6yeEm_0KsMw"
      },
      "execution_count": 13,
      "outputs": []
    },
    {
      "cell_type": "code",
      "source": [
        "type(x), x.dtype"
      ],
      "metadata": {
        "colab": {
          "base_uri": "https://localhost:8080/"
        },
        "id": "iypS0I87LIMO",
        "outputId": "ed1ccc77-ba8d-4f2b-8e92-f2f2a9576c06"
      },
      "execution_count": 14,
      "outputs": [
        {
          "output_type": "execute_result",
          "data": {
            "text/plain": [
              "(torch.Tensor, torch.float32)"
            ]
          },
          "metadata": {},
          "execution_count": 14
        }
      ]
    },
    {
      "cell_type": "code",
      "source": [
        "# 線形変換の計算\n",
        "u = fc(x)"
      ],
      "metadata": {
        "id": "XtxXsFrcLNwP"
      },
      "execution_count": 15,
      "outputs": []
    },
    {
      "cell_type": "code",
      "source": [
        "u"
      ],
      "metadata": {
        "colab": {
          "base_uri": "https://localhost:8080/"
        },
        "id": "4SAO8UkeLdSN",
        "outputId": "a6db4edf-ad3a-4f16-bafc-5af11a3e00d1"
      },
      "execution_count": 16,
      "outputs": [
        {
          "output_type": "execute_result",
          "data": {
            "text/plain": [
              "tensor([[-0.8219,  0.0526]], grad_fn=<AddmmBackward0>)"
            ]
          },
          "metadata": {},
          "execution_count": 16
        }
      ]
    },
    {
      "cell_type": "code",
      "source": [
        "# 非線形変換の計算\n",
        "import torch.nn.functional as F"
      ],
      "metadata": {
        "id": "2QqrheaPLecI"
      },
      "execution_count": 17,
      "outputs": []
    },
    {
      "cell_type": "code",
      "source": [
        "# ReLU関数\n",
        "# h = f(u) = max(0, u)\n",
        "h = F.relu(u)"
      ],
      "metadata": {
        "id": "2r6_7RIRLw8c"
      },
      "execution_count": 18,
      "outputs": []
    },
    {
      "cell_type": "code",
      "source": [
        "h"
      ],
      "metadata": {
        "colab": {
          "base_uri": "https://localhost:8080/"
        },
        "id": "GquJNi5WL78t",
        "outputId": "2ecfbcff-13e7-48cc-bafc-e7b647d399e8"
      },
      "execution_count": 19,
      "outputs": [
        {
          "output_type": "execute_result",
          "data": {
            "text/plain": [
              "tensor([[0.0000, 0.0526]], grad_fn=<ReluBackward0>)"
            ]
          },
          "metadata": {},
          "execution_count": 19
        }
      ]
    },
    {
      "cell_type": "code",
      "source": [
        "# 目的関数\n",
        "# 目標値\n",
        "t = torch.tensor([[1.], [3.]])\n",
        "# 予測値\n",
        "y = torch.tensor([[2.],[4.]])\n"
      ],
      "metadata": {
        "id": "D5xHjlEUMhJm"
      },
      "execution_count": 20,
      "outputs": []
    },
    {
      "cell_type": "code",
      "source": [
        "# 平均二乗誤差の算出\n",
        "F.mse_loss(y, t)"
      ],
      "metadata": {
        "colab": {
          "base_uri": "https://localhost:8080/"
        },
        "id": "l1jCsTEfNBIb",
        "outputId": "6a3f5e41-396d-4953-f540-6ec48c650fff"
      },
      "execution_count": 21,
      "outputs": [
        {
          "output_type": "execute_result",
          "data": {
            "text/plain": [
              "tensor(1.)"
            ]
          },
          "metadata": {},
          "execution_count": 21
        }
      ]
    },
    {
      "cell_type": "code",
      "source": [],
      "metadata": {
        "id": "vvcdRstINMwx"
      },
      "execution_count": null,
      "outputs": []
    }
  ]
}