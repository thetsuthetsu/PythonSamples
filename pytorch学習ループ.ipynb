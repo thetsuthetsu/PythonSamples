{
  "nbformat": 4,
  "nbformat_minor": 0,
  "metadata": {
    "colab": {
      "provenance": [],
      "gpuType": "T4",
      "authorship_tag": "ABX9TyNWLA75iv9Rjz8yWDoCOudu",
      "include_colab_link": true
    },
    "kernelspec": {
      "name": "python3",
      "display_name": "Python 3"
    },
    "language_info": {
      "name": "python"
    },
    "accelerator": "GPU"
  },
  "cells": [
    {
      "cell_type": "markdown",
      "metadata": {
        "id": "view-in-github",
        "colab_type": "text"
      },
      "source": [
        "<a href=\"https://colab.research.google.com/github/thetsuthetsu/PythonSamples/blob/main/pytorch%E5%AD%A6%E7%BF%92%E3%83%AB%E3%83%BC%E3%83%97.ipynb\" target=\"_parent\"><img src=\"https://colab.research.google.com/assets/colab-badge.svg\" alt=\"Open In Colab\"/></a>"
      ]
    },
    {
      "cell_type": "code",
      "execution_count": 25,
      "metadata": {
        "id": "9r2_h3sgwV5E"
      },
      "outputs": [],
      "source": [
        "import torch\n",
        "import torch.nn as nn\n",
        "import torch.nn.functional as F"
      ]
    },
    {
      "cell_type": "code",
      "source": [
        "from sklearn.datasets import load_iris"
      ],
      "metadata": {
        "id": "DDNfVNuHwhxj"
      },
      "execution_count": 26,
      "outputs": []
    },
    {
      "cell_type": "code",
      "source": [
        "iris = load_iris()"
      ],
      "metadata": {
        "id": "dEg57Qc4wlQJ"
      },
      "execution_count": 27,
      "outputs": []
    },
    {
      "cell_type": "code",
      "source": [
        "# 入力値と目標値を抽出\n",
        "x = iris['data']\n",
        "t = iris['target']"
      ],
      "metadata": {
        "id": "EFwy39J4wpKG"
      },
      "execution_count": 28,
      "outputs": []
    },
    {
      "cell_type": "code",
      "source": [
        "# PytorchのTensor型へ変換\n",
        "x = torch.tensor(x, dtype=torch.float32)\n",
        "t = torch.tensor(t, dtype=torch.int64)"
      ],
      "metadata": {
        "id": "PnOG7Z41wtmi"
      },
      "execution_count": 29,
      "outputs": []
    },
    {
      "cell_type": "code",
      "source": [
        "## DataLoaderの定義：Miniバッチ処理に必要\n",
        "# 入力値と目標値をまとめる\n",
        "dataset = torch.utils.data.TensorDataset(x,t)"
      ],
      "metadata": {
        "id": "5EWhwalAw0lU"
      },
      "execution_count": 30,
      "outputs": []
    },
    {
      "cell_type": "code",
      "source": [
        "# データセット分割\n",
        "# 学習データ(60)、検証データ(20)、テストデータ(20) ^\n",
        "# 各データのサンプル数を決定\n",
        "# train : val : test = 60 : 20 : 20\n",
        "n_train = int(len(dataset) * 0.6)\n",
        "n_val = int(len(dataset) * 0.2)\n",
        "n_test = len(dataset) - n_train - n_val"
      ],
      "metadata": {
        "id": "VjZuqeL3xBi0"
      },
      "execution_count": 65,
      "outputs": []
    },
    {
      "cell_type": "code",
      "source": [
        "# データセットの分割\n",
        "torch.manual_seed(0)\n",
        "train, val, test = torch.utils.data.random_split(dataset, [n_train, n_val, n_test])"
      ],
      "metadata": {
        "id": "KCdRo4B4xSen"
      },
      "execution_count": 78,
      "outputs": []
    },
    {
      "cell_type": "code",
      "source": [
        "# バッチサイズ (目安：学習サンプル数の1/10～1/100)\n",
        "batch_size = 10"
      ],
      "metadata": {
        "id": "KWijYMuqxTj8"
      },
      "execution_count": 79,
      "outputs": []
    },
    {
      "cell_type": "code",
      "source": [
        "train_loader = torch.utils.data.DataLoader(train, batch_size, shuffle=True, drop_last=True)\n",
        "val_loader = torch.utils.data.DataLoader(val, batch_size)\n",
        "test_loader = torch.utils.data.DataLoader(test, batch_size)\n",
        "\n",
        "x,t = next(iter(train_loader))\n",
        "x"
      ],
      "metadata": {
        "colab": {
          "base_uri": "https://localhost:8080/"
        },
        "id": "pmTmRhwAxlFZ",
        "outputId": "0fa9ad3b-971b-4d38-b09b-b3109687eb6a"
      },
      "execution_count": 80,
      "outputs": [
        {
          "output_type": "execute_result",
          "data": {
            "text/plain": [
              "tensor([[7.7000, 3.8000, 6.7000, 2.2000],\n",
              "        [5.0000, 3.4000, 1.6000, 0.4000],\n",
              "        [5.5000, 3.5000, 1.3000, 0.2000],\n",
              "        [6.4000, 2.8000, 5.6000, 2.2000],\n",
              "        [6.7000, 2.5000, 5.8000, 1.8000],\n",
              "        [7.7000, 3.0000, 6.1000, 2.3000],\n",
              "        [5.1000, 2.5000, 3.0000, 1.1000],\n",
              "        [5.0000, 3.6000, 1.4000, 0.2000],\n",
              "        [7.3000, 2.9000, 6.3000, 1.8000],\n",
              "        [6.1000, 2.8000, 4.0000, 1.3000]])"
            ]
          },
          "metadata": {},
          "execution_count": 80
        }
      ]
    },
    {
      "cell_type": "code",
      "source": [
        "## ネットワークの定義 (4 -> 4 -> 3の全結合層)\n",
        "# fc1: input:4 => output:4\n",
        "# fc2: input:4 => output:3\n",
        "class Net(nn.Module):\n",
        "  # 使用するオブジェクトを定義\n",
        "  def __init__(self):\n",
        "    super().__init__()\n",
        "    self.fc1 = nn.Linear(4,4)\n",
        "    self.fc2 = nn.Linear(4,3)\n",
        "\n",
        "  # 順伝搬\n",
        "  def forward(self, x):\n",
        "    h = self.fc1(x)\n",
        "    h = F.relu(h)\n",
        "    h = self.fc2(h)\n",
        "    return h\n",
        ""
      ],
      "metadata": {
        "id": "uBBjsWWdxrBx"
      },
      "execution_count": 69,
      "outputs": []
    },
    {
      "cell_type": "code",
      "source": [
        "# GPUの有無を確認\n",
        "torch.cuda.is_available()\n",
        "# デバイスの選択\n",
        "device = torch.device('cuda:0' if torch.cuda.is_available() else 'cpu')\n",
        "\n",
        "## 学習ループ\n",
        "# エポック数\n",
        "max_epoch = 1\n",
        "torch.manual_seed(0)\n",
        "net = Net().to(device)"
      ],
      "metadata": {
        "id": "HwcGF68qyHuJ"
      },
      "execution_count": 81,
      "outputs": []
    },
    {
      "cell_type": "code",
      "source": [
        "# 最適化手法の定義 (SGD, 学習係数:0.01)\n",
        "optimizer = torch.optim.SGD(net.parameters(), lr=0.1)"
      ],
      "metadata": {
        "id": "Zsr4urpq0dSs"
      },
      "execution_count": 84,
      "outputs": []
    },
    {
      "cell_type": "code",
      "source": [
        "for eposh in range(max_epoch):\n",
        "  for batch in train_loader:\n",
        "    x,t = batch\n",
        "    x = x.to(device)\n",
        "    t = t.to(device)\n",
        "    y = net(x)\n",
        "    loss = F.cross_entropy(y, t)\n",
        "\n",
        "    # 正解率追加\n",
        "    y_label = torch.argmax(y, dim=1)\n",
        "    accuracy = (y_label == t).sum().float() / len(t)\n",
        "    print(f'accuracy: {accuracy:.2f}')\n",
        "\n",
        "    optimizer.zero_grad()\n",
        "    loss.backward()\n",
        "    optimizer.step()"
      ],
      "metadata": {
        "colab": {
          "base_uri": "https://localhost:8080/"
        },
        "id": "R5n3QdYGy00X",
        "outputId": "9e49cad7-b956-489e-a547-ff18fc0adbcd"
      },
      "execution_count": 85,
      "outputs": [
        {
          "output_type": "stream",
          "name": "stdout",
          "text": [
            "accuracy: 0.80\n",
            "accuracy: 0.60\n",
            "accuracy: 0.80\n",
            "accuracy: 0.50\n",
            "accuracy: 0.60\n",
            "accuracy: 0.60\n",
            "accuracy: 0.40\n",
            "accuracy: 0.80\n",
            "accuracy: 0.10\n"
          ]
        }
      ]
    },
    {
      "cell_type": "code",
      "source": [
        "# 正解率を計算する関数\n",
        "def calc_accuracy(data_loader):\n",
        "    with torch.no_grad():\n",
        "      total = 0\n",
        "      correct = 0.0\n",
        "\n",
        "      for batch in data_loader:\n",
        "        x,t =batch\n",
        "        x = x.to(device)\n",
        "        t = t.to(device)\n",
        "        y = net(x)\n",
        "\n",
        "        y_label = torch.argmax(y, dim=1)\n",
        "        total += len(t)\n",
        "        correct += (y_label == t).sum()\n",
        "\n",
        "      # 全体の平均を算出\n",
        "      accuracy = correct / total\n",
        "    return accuracy"
      ],
      "metadata": {
        "id": "JY4SJ9U51Zk7"
      },
      "execution_count": 86,
      "outputs": []
    },
    {
      "cell_type": "code",
      "source": [
        "calc_accuracy(val_loader)"
      ],
      "metadata": {
        "colab": {
          "base_uri": "https://localhost:8080/"
        },
        "id": "oQOMIkNK2B4q",
        "outputId": "144d4ac2-589d-4a59-fcad-da810c231801"
      },
      "execution_count": 74,
      "outputs": [
        {
          "output_type": "execute_result",
          "data": {
            "text/plain": [
              "tensor(0.7000, device='cuda:0')"
            ]
          },
          "metadata": {},
          "execution_count": 74
        }
      ]
    },
    {
      "cell_type": "code",
      "source": [
        "calc_accuracy(test_loader)"
      ],
      "metadata": {
        "colab": {
          "base_uri": "https://localhost:8080/"
        },
        "id": "JCWdzpC02Ngh",
        "outputId": "a6471b7f-5af7-480a-ebb3-4724e37f65e7"
      },
      "execution_count": 87,
      "outputs": [
        {
          "output_type": "execute_result",
          "data": {
            "text/plain": [
              "tensor(0.7000, device='cuda:0')"
            ]
          },
          "metadata": {},
          "execution_count": 87
        }
      ]
    },
    {
      "cell_type": "code",
      "source": [],
      "metadata": {
        "id": "kjW3oP932QwV"
      },
      "execution_count": null,
      "outputs": []
    }
  ]
}